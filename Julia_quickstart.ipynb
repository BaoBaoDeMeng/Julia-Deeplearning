{
 "cells": [
  {
   "cell_type": "markdown",
   "metadata": {},
   "source": [
    "# 开始教程\n",
    "\n",
    "该教程粗略的摘录了 Julia 的基本语法，不熟悉 Julia 的同学可以先粗略地通读该教程，以大致熟悉基本操作。\n",
    "\n",
    "如果想要了解详细内容可以查阅[官方文档](https://docs.julialang.org/en/v1/)，Julia 中文社区提供了中文版本的[文档](https://docs.juliacn.com/latest/)。视频学习可以在 [B 站](https://www.bilibili.com/video/BV1Cb411W7Sr?p=1)进行。\n",
    "\n",
    "\n",
    "Julia Quickstart\n",
    "\n",
    "This tutorial provides a rough excerpt from Julia's basic grammar. Students who are not familiar with Julia can read this tutorial roughly to familiarize themselves with basic operations.\n",
    "\n",
    "If you want to know more details, you can refer to [Official Document](https://docs.julialang.org/en/v1/)"
   ]
  },
  {
   "cell_type": "markdown",
   "metadata": {},
   "source": [
    "## 一、注释\n",
    "\n",
    "comment"
   ]
  },
  {
   "cell_type": "markdown",
   "metadata": {},
   "source": [
    "### 1. 单行注释\n",
    "\n",
    "Single-line comment"
   ]
  },
  {
   "cell_type": "code",
   "execution_count": 1,
   "metadata": {},
   "outputs": [],
   "source": [
    "# 单行注释只需要一个井号"
   ]
  },
  {
   "cell_type": "markdown",
   "metadata": {},
   "source": [
    "### 2. 多行注释\n",
    "\n",
    "Multi-line comments"
   ]
  },
  {
   "cell_type": "code",
   "execution_count": 2,
   "metadata": {},
   "outputs": [],
   "source": [
    "#= 多行注释\n",
    "   只需要以 '#=' 开始 '=#' 结束\n",
    "   还可以嵌套.\n",
    "=#"
   ]
  },
  {
   "cell_type": "markdown",
   "metadata": {},
   "source": [
    "## 二、原始类型与操作符\n",
    "\n",
    "Data types and operators"
   ]
  },
  {
   "cell_type": "markdown",
   "metadata": {},
   "source": [
    "### 1. 数字"
   ]
  },
  {
   "cell_type": "code",
   "execution_count": 3,
   "metadata": {},
   "outputs": [
    {
     "data": {
      "text/plain": [
       "4"
      ]
     },
     "execution_count": 3,
     "metadata": {},
     "output_type": "execute_result"
    }
   ],
   "source": [
    "# Julia 中一切皆是表达式。\n",
    "\n",
    "# 这是一些基本数字类型.\n",
    "3 # => 3 (Int64)\n",
    "3.2 # => 3.2 (Float64)\n",
    "2 + 1im # => 2 + 1im (Complex{Int64})\n",
    "2//3 # => 2//3 (Rational{Int64})\n",
    "\n",
    "# 支持所有的普通中缀操作符。\n",
    "1 + 1 # => 2\n",
    "8 - 1 # => 7\n",
    "10 * 2 # => 20\n",
    "35 / 5 # => 7.0\n",
    "5 / 2 # => 2.5 # 用 Int 除 Int 永远返回 Float\n",
    "div(5, 2) # => 2 # 使用 div 截断小数点\n",
    "5 \\ 35 # => 7.0\n",
    "2 ^ 2 # => 4 # 次方, 不是二进制 xor\n",
    "12 % 10 # => 2\n",
    "\n",
    "# 用括号提高优先级\n",
    "(1 + 3) * 2 # => 8\n",
    "\n",
    "# 二进制操作符\n",
    "~2 # => -3   # 非\n",
    "3 & 5 # => 1 # 与\n",
    "2 | 4 # => 6 # 或\n",
    "2 >>> 1 # => 1 # 逻辑右移\n",
    "2 >> 1  # => 1 # 算术右移\n",
    "2 << 1  # => 4 # 逻辑/算术 右移"
   ]
  },
  {
   "cell_type": "markdown",
   "metadata": {},
   "source": [
    "### 2. 布尔值\n",
    "\n",
    "Bool"
   ]
  },
  {
   "cell_type": "code",
   "execution_count": 4,
   "metadata": {},
   "outputs": [
    {
     "data": {
      "text/plain": [
       "false"
      ]
     },
     "execution_count": 4,
     "metadata": {},
     "output_type": "execute_result"
    }
   ],
   "source": [
    "# 布尔值是原始类型\n",
    "true\n",
    "false\n",
    "\n",
    "# 布尔操作符\n",
    "!true # => false\n",
    "!false # => true\n",
    "1 == 1 # => true\n",
    "2 == 1 # => false\n",
    "1 != 1 # => false\n",
    "2 != 1 # => true\n",
    "1 < 10 # => true\n",
    "1 > 10 # => false\n",
    "2 <= 2 # => true\n",
    "2 >= 2 # => true\n",
    "\n",
    "# 比较可以串联\n",
    "1 < 2 < 3 # => true\n",
    "2 < 3 < 2 # => false"
   ]
  },
  {
   "cell_type": "markdown",
   "metadata": {},
   "source": [
    "### 3. 字符串\n",
    "\n",
    "String"
   ]
  },
  {
   "cell_type": "code",
   "execution_count": 5,
   "metadata": {},
   "outputs": [
    {
     "name": "stdout",
     "output_type": "stream",
     "text": [
      "5 is less than 5.300000I'm Julia. Nice to meet you!\n"
     ]
    }
   ],
   "source": [
    "using Printf\n",
    "\n",
    "# 字符串可以由 \" 创建\n",
    "\"This is a string.\"\n",
    "\n",
    "# 字符字面量可用 ' 创建\n",
    "'a'\n",
    "\n",
    "# 可以像取数组取值一样用 index 取出对应字符\n",
    "\"This is a string\"[1] # => 'T' # Julia 的 index 从 1 开始 :(\n",
    "# 但是对 UTF-8 无效,\n",
    "# 因此建议使用遍历器 (map, for loops, 等).\n",
    "\n",
    "# $ 可用于字符插值:\n",
    "\"2 + 2 = $(2 + 2)\" # => \"2 + 2 = 4\"\n",
    "# 可以将任何 Julia 表达式放入括号。\n",
    "\n",
    "# 另一种格式化字符串的方式是 printf 宏.\n",
    "@printf \"%d is less than %f\" 4.5 5.3 # 5 is less than 5.300000\n",
    "\n",
    "# 打印字符串很容易\n",
    "println(\"I'm Julia. Nice to meet you!\")"
   ]
  },
  {
   "cell_type": "markdown",
   "metadata": {},
   "source": [
    "## 二、变量\n",
    "\n",
    "Variable\n",
    "\n",
    "注意 Julia 的命名规约:\n",
    "\n",
    "* 变量名为小写，单词之间以下划线连接('\\_')。\n",
    "* 类型名以大写字母开头，单词以 CamelCase 方式连接。\n",
    "* 函数与宏的名字小写，无下划线。\n",
    "* 会改变输入的函数名末位为 !，这类函数有时被称为 mutating functions 或 in-place functions.\n",
    "\n",
    "Julia's naming convention:\n",
    "\n",
    "* The variable name is lowercase, and the words are underlined ('\\ _').\n",
    "* Type names start with capital letters, and words are connected in CamelCase.\n",
    "* The names of functions and macros are lowercase without underscores.\n",
    "* Will change the end of the input function name to!, Such functions are sometimes called mutating functions or in-place functions."
   ]
  },
  {
   "cell_type": "code",
   "execution_count": 6,
   "metadata": {},
   "outputs": [
    {
     "name": "stdout",
     "output_type": "stream",
     "text": [
      "UndefVarError(:some_other_var)\n"
     ]
    },
    {
     "data": {
      "text/plain": [
       "6.283185307179586"
      ]
     },
     "execution_count": 6,
     "metadata": {},
     "output_type": "execute_result"
    }
   ],
   "source": [
    "# 给变量赋值就是声明变量\n",
    "some_var = 5 # => 5\n",
    "some_var # => 5\n",
    "\n",
    "# 访问未声明变量会抛出异常\n",
    "try\n",
    "    some_other_var # => ERROR: some_other_var not defined\n",
    "catch e\n",
    "    println(e)\n",
    "end\n",
    "\n",
    "# 变量名需要以字母开头.\n",
    "# 之后任何字母，数字，下划线，叹号都是合法的。\n",
    "SomeOtherVar123! = 6 # => 6\n",
    "\n",
    "# 用数学符号非常方便\n",
    "2 * π # => 6.283185307179586"
   ]
  },
  {
   "cell_type": "markdown",
   "metadata": {},
   "source": [
    "## 三、复杂数据类型\n",
    "\n",
    "Complex data types"
   ]
  },
  {
   "cell_type": "markdown",
   "metadata": {},
   "source": [
    "### 数组\n",
    "\n",
    "Array"
   ]
  },
  {
   "cell_type": "code",
   "execution_count": 7,
   "metadata": {},
   "outputs": [
    {
     "data": {
      "text/plain": [
       "2×2 Array{Int64,2}:\n",
       " 1  2\n",
       " 3  4"
      ]
     },
     "execution_count": 7,
     "metadata": {},
     "output_type": "execute_result"
    }
   ],
   "source": [
    "# 数组存储一列值，index 从 1 开始。\n",
    "a = Int64[] # => 0-element Int64 Array\n",
    "\n",
    "# 一维数组可以以逗号分隔值的方式声明。\n",
    "b = [4, 5, 6] # => 包含 3 个 Int64 类型元素的数组: [4, 5, 6]\n",
    "b[1] # => 4\n",
    "b[end] # => 6\n",
    "\n",
    "# 二维数组以分号分隔维度。\n",
    "matrix = [1 2; 3 4] # => 2x2 Int64 数组: [1 2; 3 4]"
   ]
  },
  {
   "cell_type": "code",
   "execution_count": 8,
   "metadata": {},
   "outputs": [
    {
     "data": {
      "text/plain": [
       "3-element Array{Int64,1}:\n",
       " 4\n",
       " 5\n",
       " 6"
      ]
     },
     "execution_count": 8,
     "metadata": {},
     "output_type": "execute_result"
    }
   ],
   "source": [
    "# 使用 push! 和 append! 往数组末尾添加元素\n",
    "push!(a,1)     # => [1]\n",
    "push!(a,2)     # => [1,2]\n",
    "push!(a,4)     # => [1,2,4]\n",
    "push!(a,3)     # => [1,2,4,3]\n",
    "append!(a,b) # => [1,2,4,3,4,5,6]\n",
    "\n",
    "# 用 pop 弹出末尾元素\n",
    "pop!(b)        # => 6 and b is now [4,5]\n",
    "\n",
    "# 可以再放回去\n",
    "push!(b,6)   # b 又变成了 [4,5,6]."
   ]
  },
  {
   "cell_type": "code",
   "execution_count": 9,
   "metadata": {},
   "outputs": [
    {
     "data": {
      "text/plain": [
       "6"
      ]
     },
     "execution_count": 9,
     "metadata": {},
     "output_type": "execute_result"
    }
   ],
   "source": [
    "a[1] # => 1 #  永远记住 Julia 的 index 从 1 开始!\n",
    "\n",
    "# 用 end 可以直接取到最后索引. 可用作任何索引表达式\n",
    "a[end] # => 6"
   ]
  },
  {
   "cell_type": "code",
   "execution_count": 10,
   "metadata": {},
   "outputs": [
    {
     "data": {
      "text/plain": [
       "3-element Array{Int64,1}:\n",
       " 4\n",
       " 5\n",
       " 6"
      ]
     },
     "execution_count": 10,
     "metadata": {},
     "output_type": "execute_result"
    }
   ],
   "source": [
    "# 以叹号结尾的函数名表示它会改变参数的值\n",
    "arr = [5,4,6] # => 包含三个 Int64 元素的数组: [5,4,6]\n",
    "sort(arr) # => [4,5,6]; arr 还是 [5,4,6]\n",
    "sort!(arr) # => [4,5,6]; arr 现在是 [4,5,6]"
   ]
  },
  {
   "cell_type": "code",
   "execution_count": 11,
   "metadata": {},
   "outputs": [
    {
     "name": "stdout",
     "output_type": "stream",
     "text": [
      "BoundsError([1, 2, 4, 3, 4, 5, 6], (0,))\n"
     ]
    }
   ],
   "source": [
    "# 越界会抛出 BoundsError 异常\n",
    "try\n",
    "    a[0] # => ERROR: BoundsError() in getindex at array.jl:270\n",
    "    a[end+1] # => ERROR: BoundsError() in getindex at array.jl:270\n",
    "catch e\n",
    "    println(e)\n",
    "end"
   ]
  },
  {
   "cell_type": "code",
   "execution_count": 12,
   "metadata": {},
   "outputs": [
    {
     "data": {
      "text/plain": [
       "8-element Array{Int64,1}:\n",
       " 1\n",
       " 2\n",
       " 3\n",
       " 4\n",
       " 5\n",
       " 1\n",
       " 2\n",
       " 3"
      ]
     },
     "execution_count": 12,
     "metadata": {},
     "output_type": "execute_result"
    }
   ],
   "source": [
    "# 可以用 range 初始化数组\n",
    "a = collect(1:5) # => 5-element Int64 Array: [1,2,3,4,5]\n",
    "\n",
    "# 可以切割数组\n",
    "a[1:3] # => [1, 2, 3]\n",
    "a[2:end] # => [2, 3, 4, 5]\n",
    "\n",
    "# 用 splice! 切割原数组\n",
    "arr = [3,4,5]\n",
    "splice!(arr,2) # => 4 ; arr 变成了 [3,5]\n",
    "\n",
    "# 用 append! 连接数组\n",
    "b = [1,2,3]\n",
    "append!(a,b) # a 变成了 [1, 2, 3, 4, 5, 1, 2, 3]"
   ]
  },
  {
   "cell_type": "code",
   "execution_count": 13,
   "metadata": {},
   "outputs": [
    {
     "data": {
      "text/plain": [
       "8"
      ]
     },
     "execution_count": 13,
     "metadata": {},
     "output_type": "execute_result"
    }
   ],
   "source": [
    "# 检查元素是否在数组中\n",
    "in(1, a) # => true\n",
    "\n",
    "# 用 length 获得数组长度\n",
    "length(a) # => 8"
   ]
  },
  {
   "cell_type": "markdown",
   "metadata": {},
   "source": [
    "### 元组\n",
    "\n",
    "Tuple"
   ]
  },
  {
   "cell_type": "code",
   "execution_count": 14,
   "metadata": {},
   "outputs": [
    {
     "name": "stdout",
     "output_type": "stream",
     "text": [
      "MethodError(setindex!, ((1, 2, 3), 3, 1), 0x0000000000006a14)\n"
     ]
    },
    {
     "data": {
      "text/plain": [
       "(4, 5)"
      ]
     },
     "execution_count": 14,
     "metadata": {},
     "output_type": "execute_result"
    }
   ],
   "source": [
    "# Tuples 是 immutable 的\n",
    "tup = (1,2,3) # => (1,2,3) # an (Int64,Int64,Int64) tuple.\n",
    "tup[1] # => 1\n",
    "try\n",
    "    tup[1] = 3 # => ERROR: no method setindex!((Int64,Int64,Int64),Int64,Int64)\n",
    "catch e\n",
    "    println(e)\n",
    "end\n",
    "\n",
    "# 大多数组的函数同样支持 tuples\n",
    "length(tup) # => 3\n",
    "tup[1:2] # => (1,2)\n",
    "in(2, tup) # => true\n",
    "\n",
    "# 可以将 tuples 元素分别赋给变量\n",
    "a, b, c = (1, 2, 3) # => (1,2,3)  # a is now 1, b is now 2 and c is now 3\n",
    "\n",
    "# 不用括号也可以\n",
    "d, e, f = 4, 5, 6 # => (4,5,6)\n",
    "\n",
    "# 单元素 tuple 不等于其元素值\n",
    "(1,) == 1 # => false\n",
    "(1) == 1 # => true\n",
    "\n",
    "# 交换值\n",
    "e, d = d, e  # => (5,4) # d is now 5 and e is now 4"
   ]
  },
  {
   "cell_type": "markdown",
   "metadata": {},
   "source": [
    "### 字典\n",
    "\n",
    "Dict"
   ]
  },
  {
   "cell_type": "code",
   "execution_count": 15,
   "metadata": {},
   "outputs": [
    {
     "data": {
      "text/plain": [
       "Base.ValueIterator for a Dict{String,Int64} with 3 entries. Values:\n",
       "  2\n",
       "  1\n",
       "  3"
      ]
     },
     "execution_count": 15,
     "metadata": {},
     "output_type": "execute_result"
    }
   ],
   "source": [
    "# 字典Dictionaries store mappings\n",
    "empty_dict = Dict() # => Dict{Any,Any}()\n",
    "\n",
    "# 也可以用字面量创建字典\n",
    "filled_dict = Dict(\"one\"=> 1, \"two\"=> 2, \"three\"=> 3)\n",
    "# => Dict{ASCIIString,Int64}\n",
    "\n",
    "# 用 [] 获得键值\n",
    "filled_dict[\"one\"] # => 1\n",
    "\n",
    "# 获得所有键\n",
    "keys(filled_dict)\n",
    "# => KeyIterator{Dict{ASCIIString,Int64}}([\"three\"=>3,\"one\"=>1,\"two\"=>2])\n",
    "# 注意，键的顺序不是插入时的顺序\n",
    "\n",
    "# 获得所有值\n",
    "values(filled_dict)\n",
    "# => ValueIterator{Dict{ASCIIString,Int64}}([\"three\"=>3,\"one\"=>1,\"two\"=>2])\n",
    "# 注意，值的顺序也一样"
   ]
  },
  {
   "cell_type": "code",
   "execution_count": 16,
   "metadata": {},
   "outputs": [
    {
     "data": {
      "text/plain": [
       "false"
      ]
     },
     "execution_count": 16,
     "metadata": {},
     "output_type": "execute_result"
    }
   ],
   "source": [
    "# 用 haskey 检查键是否存在\n",
    "haskey(filled_dict, \"one\") # => true\n",
    "haskey(filled_dict, 1) # => false"
   ]
  },
  {
   "cell_type": "code",
   "execution_count": 17,
   "metadata": {},
   "outputs": [
    {
     "name": "stdout",
     "output_type": "stream",
     "text": [
      "KeyError(\"four\")\n"
     ]
    },
    {
     "data": {
      "text/plain": [
       "4"
      ]
     },
     "execution_count": 17,
     "metadata": {},
     "output_type": "execute_result"
    }
   ],
   "source": [
    "# 获取不存在的键的值会抛出异常\n",
    "try\n",
    "    filled_dict[\"four\"] # => ERROR: key not found: four in getindex at dict.jl:489\n",
    "catch e\n",
    "    println(e)\n",
    "end\n",
    "\n",
    "# 使用 get 可以提供默认值来避免异常\n",
    "# get(dictionary,key,default_value)\n",
    "get(filled_dict,\"one\",4) # => 1\n",
    "get(filled_dict,\"four\",4) # => 4"
   ]
  },
  {
   "cell_type": "markdown",
   "metadata": {},
   "source": [
    "### 集合\n",
    "\n",
    "Set"
   ]
  },
  {
   "cell_type": "code",
   "execution_count": 18,
   "metadata": {},
   "outputs": [
    {
     "data": {
      "text/plain": [
       "Set{Int64} with 2 elements:\n",
       "  4\n",
       "  1"
      ]
     },
     "execution_count": 18,
     "metadata": {},
     "output_type": "execute_result"
    }
   ],
   "source": [
    "# 用 Sets 表示无序不可重复的值的集合\n",
    "empty_set = Set() # => Set{Any}()\n",
    "# 初始化一个 Set 并定义其值\n",
    "filled_set = Set([1,2,2,3,4]) # => Set{Int64}(1,2,3,4)\n",
    "\n",
    "# 添加值\n",
    "push!(filled_set,5) # => Set{Int64}(5,4,2,3,1)\n",
    "\n",
    "# 检查是否存在某值\n",
    "in(2, filled_set) # => true\n",
    "in(10, filled_set) # => false\n",
    "\n",
    "# 交集，并集，差集\n",
    "other_set = Set([3, 4, 5, 6]) # => Set{Int64}(6,4,5,3)\n",
    "intersect(filled_set, other_set) # => Set{Int64}(3,4,5)\n",
    "union(filled_set, other_set) # => Set{Int64}(1,2,3,4,5,6)\n",
    "setdiff(Set([1,2,3,4]),Set([2,3,5])) # => Set{Int64}(1,4)"
   ]
  },
  {
   "cell_type": "markdown",
   "metadata": {},
   "source": [
    "## 四、控制流\n",
    "\n",
    "Control flow"
   ]
  },
  {
   "cell_type": "code",
   "execution_count": 19,
   "metadata": {},
   "outputs": [
    {
     "name": "stdout",
     "output_type": "stream",
     "text": [
      "some_var is smaller than 10.\n"
     ]
    }
   ],
   "source": [
    "# 声明一个变量\n",
    "some_var = 5\n",
    "\n",
    "# 这是一个 if 语句，缩进不是必要的\n",
    "if some_var > 10\n",
    "    println(\"some_var is totally bigger than 10.\")\n",
    "elseif some_var < 10    # elseif 是可选的.\n",
    "    println(\"some_var is smaller than 10.\")\n",
    "else                    # else 也是可选的.\n",
    "    println(\"some_var is indeed 10.\")\n",
    "end\n",
    "# => prints \"some var is smaller than 10\""
   ]
  },
  {
   "cell_type": "code",
   "execution_count": 20,
   "metadata": {},
   "outputs": [
    {
     "name": "stdout",
     "output_type": "stream",
     "text": [
      "dog is a mammal\n",
      "cat is a mammal\n",
      "mouse is a mammal\n",
      "dog is a mammal\n",
      "cat is a mammal\n",
      "mouse is a mammal\n",
      "dog is a mammal\n",
      "cat is a mammal\n",
      "mouse is a mammal\n",
      "dog is a mammal\n",
      "cat is a mammal\n",
      "mouse is a mammal\n"
     ]
    }
   ],
   "source": [
    "# For 循环遍历\n",
    "# Iterable 类型包括 Range, Array, Set, Dict, 以及 String.\n",
    "for animal=[\"dog\", \"cat\", \"mouse\"]\n",
    "    println(\"$animal is a mammal\")\n",
    "    # 可用 $ 将 variables 或 expression 转换为字符串into strings\n",
    "end\n",
    "# You can use 'in' instead of '='.\n",
    "for animal in [\"dog\", \"cat\", \"mouse\"]\n",
    "    println(\"$animal is a mammal\")\n",
    "end\n",
    "\n",
    "for a in [\"dog\"=>\"mammal\",\"cat\"=>\"mammal\",\"mouse\"=>\"mammal\"]\n",
    "    println(\"$(a[1]) is a $(a[2])\")\n",
    "end\n",
    "\n",
    "for (k,v) in [\"dog\"=>\"mammal\",\"cat\"=>\"mammal\",\"mouse\"=>\"mammal\"]\n",
    "    println(\"$k is a $v\")\n",
    "end"
   ]
  },
  {
   "cell_type": "code",
   "execution_count": 21,
   "metadata": {},
   "outputs": [
    {
     "name": "stdout",
     "output_type": "stream",
     "text": [
      "0\n",
      "1\n",
      "2\n",
      "3\n"
     ]
    }
   ],
   "source": [
    "# While 循环\n",
    "x = 0\n",
    "while x < 4\n",
    "    println(x)\n",
    "    x += 1  # x = x + 1\n",
    "end"
   ]
  },
  {
   "cell_type": "code",
   "execution_count": 22,
   "metadata": {},
   "outputs": [
    {
     "name": "stdout",
     "output_type": "stream",
     "text": [
      "caught it ErrorException(\"help\")\n"
     ]
    }
   ],
   "source": [
    "# 用 try/catch 处理异常\n",
    "try\n",
    "   error(\"help\")\n",
    "catch e\n",
    "   println(\"caught it $e\")\n",
    "end"
   ]
  },
  {
   "cell_type": "markdown",
   "metadata": {},
   "source": [
    "## 五、函数\n",
    "\n",
    "Function"
   ]
  },
  {
   "cell_type": "code",
   "execution_count": 23,
   "metadata": {},
   "outputs": [
    {
     "name": "stdout",
     "output_type": "stream",
     "text": [
      "x is 5 and y is 6\n"
     ]
    },
    {
     "data": {
      "text/plain": [
       "(1, 2, 3)"
      ]
     },
     "execution_count": 23,
     "metadata": {},
     "output_type": "execute_result"
    }
   ],
   "source": [
    "# 用关键字 'function' 可创建一个新函数\n",
    "#function name(arglist)\n",
    "#  body...\n",
    "#end\n",
    "function add(x, y)\n",
    "    println(\"x is $x and y is $y\")\n",
    "\n",
    "    # 最后一行语句的值为返回\n",
    "    x + y\n",
    "end\n",
    "\n",
    "add(5, 6) # => 在 \"x is 5 and y is 6\" 后会打印 11\n",
    "\n",
    "# 还可以定义接收可变长参数的函数\n",
    "function varargs(args...)\n",
    "    return args\n",
    "    # 关键字 return 可在函数内部任何地方返回\n",
    "end\n",
    "# => varargs (generic function with 1 method)\n",
    "\n",
    "varargs(1,2,3) # => (1,2,3)"
   ]
  },
  {
   "cell_type": "code",
   "execution_count": 24,
   "metadata": {},
   "outputs": [
    {
     "name": "stdout",
     "output_type": "stream",
     "text": [
      "x is 1 and y is 2\n"
     ]
    },
    {
     "data": {
      "text/plain": [
       "3"
      ]
     },
     "execution_count": 24,
     "metadata": {},
     "output_type": "execute_result"
    }
   ],
   "source": [
    "# 省略号 ... 被称为 splat.\n",
    "# 刚刚用在了函数定义中\n",
    "# 还可以用在函数的调用\n",
    "# Array 或者 Tuple 的内容会变成参数列表\n",
    "add([1,2]...)"
   ]
  },
  {
   "cell_type": "code",
   "execution_count": 25,
   "metadata": {},
   "outputs": [
    {
     "name": "stdout",
     "output_type": "stream",
     "text": [
      "MethodError(defaults, ('h',), 0x0000000000006a19)\n"
     ]
    }
   ],
   "source": [
    "# 可定义可选参数的函数\n",
    "function defaults(a,b,x=5,y=6)\n",
    "    return \"$a $b and $x $y\"\n",
    "end\n",
    "\n",
    "defaults('h','g') # => \"h g and 5 6\"\n",
    "defaults('h','g','j') # => \"h g and j 6\"\n",
    "defaults('h','g','j','k') # => \"h g and j k\"\n",
    "try\n",
    "    defaults('h') # => ERROR: no method defaults(Char,)\n",
    "    defaults() # => ERROR: no methods defaults()\n",
    "catch e\n",
    "    println(e)\n",
    "end"
   ]
  },
  {
   "cell_type": "code",
   "execution_count": 26,
   "metadata": {},
   "outputs": [
    {
     "data": {
      "text/plain": [
       "2-element Array{Pair{String,Any},1}:\n",
       "    \"k1\" => 4\n",
       " \"name2\" => \"hello\""
      ]
     },
     "execution_count": 26,
     "metadata": {},
     "output_type": "execute_result"
    }
   ],
   "source": [
    "# 还可以定义键值对的参数\n",
    "function keyword_args(;k1=4,name2=\"hello\") # note the ;\n",
    "    return [\"k1\"=>k1,\"name2\"=>name2]\n",
    "end\n",
    "\n",
    "keyword_args(name2=\"ness\") # => [\"name2\"=>\"ness\",\"k1\"=>4]\n",
    "keyword_args(k1=\"mine\") # => [\"k1\"=>\"mine\",\"name2\"=>\"hello\"]\n",
    "keyword_args() # => [\"name2\"=>\"hello\",\"k1\"=>4]"
   ]
  },
  {
   "cell_type": "code",
   "execution_count": 27,
   "metadata": {},
   "outputs": [
    {
     "name": "stdout",
     "output_type": "stream",
     "text": [
      "normal arg: 1\n",
      "optional arg: 3\n",
      "keyword arg: 4\n"
     ]
    }
   ],
   "source": [
    "# 可以组合各种类型的参数在同一个函数的参数列表中\n",
    "function all_the_args(normal_arg, optional_positional_arg=2; keyword_arg=\"foo\")\n",
    "    println(\"normal arg: $normal_arg\")\n",
    "    println(\"optional arg: $optional_positional_arg\")\n",
    "    println(\"keyword arg: $keyword_arg\")\n",
    "end\n",
    "\n",
    "all_the_args(1, 3, keyword_arg=4)"
   ]
  },
  {
   "cell_type": "code",
   "execution_count": 28,
   "metadata": {},
   "outputs": [
    {
     "data": {
      "text/plain": [
       "create_adder (generic function with 1 method)"
      ]
     },
     "execution_count": 28,
     "metadata": {},
     "output_type": "execute_result"
    }
   ],
   "source": [
    "# Julia 有一等函数\n",
    "function create_adder(x)\n",
    "    adder = function (y)\n",
    "        return x + y\n",
    "    end\n",
    "    return adder\n",
    "end"
   ]
  },
  {
   "cell_type": "code",
   "execution_count": 29,
   "metadata": {},
   "outputs": [
    {
     "data": {
      "text/plain": [
       "create_adder (generic function with 1 method)"
      ]
     },
     "execution_count": 29,
     "metadata": {},
     "output_type": "execute_result"
    }
   ],
   "source": [
    "# 这是用 \"stabby lambda syntax\" 创建的匿名函数\n",
    "(x -> x > 2)(3) # => true\n",
    "\n",
    "# 这个函数和上面的 create_adder 一模一样\n",
    "function create_adder(x)\n",
    "    y -> x + y\n",
    "end"
   ]
  },
  {
   "cell_type": "code",
   "execution_count": 30,
   "metadata": {},
   "outputs": [
    {
     "data": {
      "text/plain": [
       "13"
      ]
     },
     "execution_count": 30,
     "metadata": {},
     "output_type": "execute_result"
    }
   ],
   "source": [
    "# 你也可以给内部函数起个名字\n",
    "function create_adder(x)\n",
    "    function adder(y)\n",
    "        x + y\n",
    "    end\n",
    "    adder\n",
    "end\n",
    "\n",
    "add_10 = create_adder(10)\n",
    "add_10(3) # => 13"
   ]
  },
  {
   "cell_type": "code",
   "execution_count": 31,
   "metadata": {},
   "outputs": [
    {
     "data": {
      "text/plain": [
       "3-element Array{Int64,1}:\n",
       " 11\n",
       " 12\n",
       " 13"
      ]
     },
     "execution_count": 31,
     "metadata": {},
     "output_type": "execute_result"
    }
   ],
   "source": [
    "# 内置的高阶函数有\n",
    "map(add_10, [1,2,3]) # => [11, 12, 13]\n",
    "filter(x -> x > 5, [3, 4, 5, 6, 7]) # => [6, 7]\n",
    "\n",
    "# 还可以使用 list comprehensions 替代 map\n",
    "[add_10(i) for i=[1, 2, 3]] # => [11, 12, 13]\n",
    "[add_10(i) for i in [1, 2, 3]] # => [11, 12, 13]"
   ]
  },
  {
   "cell_type": "markdown",
   "metadata": {},
   "source": [
    "## 六、类型\n",
    "\n",
    "Type"
   ]
  },
  {
   "cell_type": "code",
   "execution_count": 32,
   "metadata": {},
   "outputs": [
    {
     "data": {
      "text/plain": [
       "DataType"
      ]
     },
     "execution_count": 32,
     "metadata": {},
     "output_type": "execute_result"
    }
   ],
   "source": [
    "# Julia 有类型系统\n",
    "# 所有的值都有类型；但变量本身没有类型\n",
    "# 你可以用 `typeof` 函数获得值的类型\n",
    "typeof(5) # => Int64\n",
    "\n",
    "# 类型是一等值\n",
    "typeof(Int64) # => DataType\n",
    "typeof(DataType) # => DataType\n",
    "# DataType 是代表类型的类型，也代表他自己的类型\n",
    "\n",
    "# 类型可用作文档化，优化，以及调度\n",
    "# 并不是静态检查类型"
   ]
  },
  {
   "cell_type": "code",
   "execution_count": 33,
   "metadata": {},
   "outputs": [
    {
     "data": {
      "text/plain": [
       "Tiger(5.6, \"fire\")"
      ]
     },
     "execution_count": 33,
     "metadata": {},
     "output_type": "execute_result"
    }
   ],
   "source": [
    "# 用户还可以自定义类型\n",
    "# 跟其他语言的 records 或 structs 一样\n",
    "# 用 `type` 关键字定义新的类型\n",
    "\n",
    "# type Name\n",
    "#   field::OptionalType\n",
    "#   ...\n",
    "# end\n",
    "struct Tiger\n",
    "  taillength::Float64\n",
    "  coatcolor # 不附带类型标注的相当于 `::Any`\n",
    "end\n",
    "\n",
    "# 构造函数参数是类型的属性\n",
    "tigger = Tiger(3.5,\"orange\") # => Tiger(3.5,\"orange\")\n",
    "\n",
    "# 用新类型作为构造函数还会创建一个类型\n",
    "sherekhan = typeof(tigger)(5.6,\"fire\") # => Tiger(5.6,\"fire\")"
   ]
  },
  {
   "cell_type": "code",
   "execution_count": 34,
   "metadata": {},
   "outputs": [],
   "source": [
    "# struct 类似的类型被称为具体类型\n",
    "# 他们可被实例化但不能有子类型\n",
    "# 另一种类型是抽象类型\n",
    "\n",
    "# abstract Name\n",
    "abstract type Cat end # just a name and point in the type hierarchy\n",
    "\n",
    "# 抽象类型不能被实例化，但是可以有子类型\n",
    "# 例如，Number 就是抽象类型\n",
    "subtypes(Number) # => 6-element Array{Any,1}:\n",
    "                 #     Complex{Float16}\n",
    "                 #     Complex{Float32}\n",
    "                 #     Complex{Float64}\n",
    "                 #     Complex{T<:Real}\n",
    "                 #     ImaginaryUnit\n",
    "                 #     Real\n",
    "subtypes(Cat) # => 0-element Array{Any,1}\n",
    "\n",
    "# 所有的类型都有父类型; 可以用函数 `super` 得到父类型.\n",
    "typeof(5) # => Int64\n",
    "supertype(Int64) # => Signed\n",
    "supertype(Signed) # => Real\n",
    "supertype(Real) # => Number\n",
    "supertype(Number) # => Any\n",
    "supertype(supertype(Signed)) # => Number\n",
    "supertype(Any) # => Any\n",
    "# 所有这些类型，除了 Int64, 都是抽象类型.\n",
    "\n",
    "# <: 是类型集成操作符\n",
    "struct Lion <: Cat # Lion 是 Cat 的子类型\n",
    "  mane_color\n",
    "  roar::String\n",
    "end\n",
    "\n",
    "# 可以继续为你的类型定义构造函数\n",
    "# 只需要定义一个同名的函数\n",
    "# 并调用已有的构造函数设置一个固定参数\n",
    "Lion(roar::String) = Lion(\"green\",roar)\n",
    "# 这是一个外部构造函数，因为他再类型定义之外\n",
    "\n",
    "struct Panther <: Cat # Panther 也是 Cat 的子类型\n",
    "  eye_color\n",
    "  Panther() = new(\"green\")\n",
    "  # Panthers 只有这个构造函数，没有默认构造函数\n",
    "end\n",
    "# 使用内置构造函数，如 Panther，可以让你控制\n",
    "# 如何构造类型的值\n",
    "# 应该尽可能使用外部构造函数而不是内部构造函数"
   ]
  },
  {
   "cell_type": "markdown",
   "metadata": {},
   "source": [
    "## 七、多分派\n",
    "\n",
    "Multiple dispatch"
   ]
  },
  {
   "cell_type": "markdown",
   "metadata": {},
   "source": [
    "在Julia中, 所有的具名函数都是类属函数。这意味着他们都是有小方法组成的。"
   ]
  },
  {
   "cell_type": "code",
   "execution_count": 35,
   "metadata": {},
   "outputs": [
    {
     "data": {
      "text/plain": [
       "meow (generic function with 3 methods)"
      ]
     },
     "execution_count": 35,
     "metadata": {},
     "output_type": "execute_result"
    }
   ],
   "source": [
    "# 每个 Lion 的构造函数都是类属函数 Lion 的方法\n",
    "# 我们来看一个非构造函数的例子\n",
    "\n",
    "# Lion, Panther, Tiger 的 meow 定义为\n",
    "function meow(animal::Lion)\n",
    "  animal.roar # 使用点符号访问属性\n",
    "end\n",
    "\n",
    "function meow(animal::Panther)\n",
    "  \"grrr\"\n",
    "end\n",
    "\n",
    "function meow(animal::Tiger)\n",
    "  \"rawwwr\"\n",
    "end"
   ]
  },
  {
   "cell_type": "code",
   "execution_count": 36,
   "metadata": {},
   "outputs": [
    {
     "data": {
      "text/plain": [
       "\"grrr\""
      ]
     },
     "execution_count": 36,
     "metadata": {},
     "output_type": "execute_result"
    }
   ],
   "source": [
    "# 试试 meow 函数\n",
    "meow(tigger) # => \"rawwr\"\n",
    "meow(Lion(\"brown\",\"ROAAR\")) # => \"ROAAR\"\n",
    "meow(Panther()) # => \"grrr\""
   ]
  },
  {
   "cell_type": "code",
   "execution_count": 37,
   "metadata": {},
   "outputs": [
    {
     "name": "stdout",
     "output_type": "stream",
     "text": [
      "The cat says 42\n",
      "MethodError(pet_cat, (Tiger(3.5, \"orange\"),), 0x0000000000006a33)\n"
     ]
    }
   ],
   "source": [
    "# 定义一个接收 Cats 的函数\n",
    "function pet_cat(cat::Cat)\n",
    "  println(\"The cat says $(meow(cat))\")\n",
    "end\n",
    "\n",
    "pet_cat(Lion(\"42\")) # => prints \"The cat says 42\"\n",
    "try\n",
    "    pet_cat(tigger) # => ERROR: no method pet_cat(Tiger,)\n",
    "catch e\n",
    "    println(e)\n",
    "end"
   ]
  },
  {
   "cell_type": "code",
   "execution_count": 38,
   "metadata": {},
   "outputs": [
    {
     "name": "stdout",
     "output_type": "stream",
     "text": [
      "The orange tiger wins!\n",
      "The orange tiger wins!\n",
      "The orange tiger wins!\n",
      "The green-maned lion wins!\n",
      "The victorious cat says grrr\n"
     ]
    }
   ],
   "source": [
    "# 在面向对象语言中，通常都是单分派\n",
    "# 这意味着分派方法是通过第一个参数的类型决定的\n",
    "# 在Julia中, 所有参数类型都会被考虑到\n",
    "\n",
    "# 让我们定义有多个参数的函数，好看看区别\n",
    "function fight(t::Tiger,c::Cat)\n",
    "  println(\"The $(t.coatcolor) tiger wins!\")\n",
    "end\n",
    "# => fight (generic function with 1 method)\n",
    "\n",
    "fight(tigger,Panther()) # => prints The orange tiger wins!\n",
    "fight(tigger,Lion(\"ROAR\")) # => prints The orange tiger wins!\n",
    "\n",
    "# 让我们修改一下传入具体为 Lion 类型时的行为\n",
    "fight(t::Tiger,l::Lion) = println(\"The $(l.mane_color)-maned lion wins!\")\n",
    "# => fight (generic function with 2 methods)\n",
    "\n",
    "fight(tigger,Panther()) # => prints The orange tiger wins!\n",
    "fight(tigger,Lion(\"ROAR\")) # => prints The green-maned lion wins!\n",
    "\n",
    "# 把 Tiger 去掉\n",
    "fight(l::Lion,c::Cat) = println(\"The victorious cat says $(meow(c))\")\n",
    "# => fight (generic function with 3 methods)\n",
    "\n",
    "fight(Lion(\"balooga!\"),Panther()) # => prints The victorious cat says grrr\n",
    "try\n",
    "  fight(Panther(),Lion(\"RAWR\")) # => ERROR: no method fight(Panther,Lion)\n",
    "catch\n",
    "end"
   ]
  },
  {
   "cell_type": "code",
   "execution_count": null,
   "metadata": {},
   "outputs": [],
   "source": []
  }
 ],
 "metadata": {
  "kernelspec": {
   "display_name": "Julia 1.4.1",
   "language": "julia",
   "name": "julia-1.4"
  },
  "language_info": {
   "file_extension": ".jl",
   "mimetype": "application/julia",
   "name": "julia",
   "version": "1.4.1"
  }
 },
 "nbformat": 4,
 "nbformat_minor": 2
}