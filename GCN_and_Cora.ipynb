{
 "cells": [
  {
   "cell_type": "markdown",
   "metadata": {},
   "source": [
    "### GCN and Cora\n",
    "\n",
    "在该实现中您可以看到如下功能：\n",
    "1. 下载 JID2 数据集\n",
    "2. 使用 GeometricFlux 定义模型并进行训练\n",
    "\n",
    "In this template you can finish the following functions:\n",
    "1. Download the JID2 data set\n",
    "2. Define and train the model using GeometricFlux"
   ]
  },
  {
   "cell_type": "code",
   "execution_count": 1,
   "metadata": {},
   "outputs": [],
   "source": [
    ";wget \"https://github.com/tczhangzhi/Julia-Deeplearning/releases/download/v0.0.1/cora_features.jld2\""
   ]
  },
  {
   "cell_type": "code",
   "execution_count": 2,
   "metadata": {},
   "outputs": [],
   "source": [
    ";wget \"https://github.com/tczhangzhi/Julia-Deeplearning/releases/download/v0.0.1/cora_graph.jld2\""
   ]
  },
  {
   "cell_type": "code",
   "execution_count": 3,
   "metadata": {},
   "outputs": [],
   "source": [
    ";wget \"https://github.com/tczhangzhi/Julia-Deeplearning/releases/download/v0.0.1/cora_labels.jld2\""
   ]
  },
  {
   "cell_type": "code",
   "execution_count": 4,
   "metadata": {},
   "outputs": [
    {
     "name": "stderr",
     "output_type": "stream",
     "text": [
      "┌ Warning: Package GeometricFlux does not have LightGraphs in its dependencies:\n",
      "│ - If you have GeometricFlux checked out for development and have\n",
      "│   added LightGraphs as a dependency but haven't updated your primary\n",
      "│   environment's manifest file, try `Pkg.resolve()`.\n",
      "│ - Otherwise you may need to report an issue with GeometricFlux\n",
      "│ Loading LightGraphs into GeometricFlux from project dependency, future warnings for GeometricFlux are suppressed.\n",
      "└ @ nothing nothing:909\n"
     ]
    },
    {
     "name": "stdout",
     "output_type": "stream",
     "text": [
      "accuracy(train_X, train_y) = 0.21565731166912852\n",
      "accuracy(train_X, train_y) = 0.3068685376661743\n",
      "accuracy(train_X, train_y) = 0.404357459379616\n",
      "accuracy(train_X, train_y) = 0.49741506646971934\n",
      "accuracy(train_X, train_y) = 0.569423929098966\n",
      "accuracy(train_X, train_y) = 0.6347858197932054\n",
      "accuracy(train_X, train_y) = 0.681314623338257\n",
      "accuracy(train_X, train_y) = 0.7127031019202363\n",
      "accuracy(train_X, train_y) = 0.7341211225997046\n",
      "accuracy(train_X, train_y) = 0.7573855243722304\n",
      "accuracy(train_X, train_y) = 0.7784342688330872\n",
      "accuracy(train_X, train_y) = 0.7913589364844904\n",
      "accuracy(train_X, train_y) = 0.8035450516986706\n",
      "accuracy(train_X, train_y) = 0.8157311669128509\n",
      "accuracy(train_X, train_y) = 0.8282865583456426\n",
      "accuracy(train_X, train_y) = 0.8338257016248154\n",
      "accuracy(train_X, train_y) = 0.8415805022156573\n",
      "accuracy(train_X, train_y) = 0.8508124076809453\n",
      "accuracy(train_X, train_y) = 0.8589364844903988\n",
      "accuracy(train_X, train_y) = 0.8670605612998523\n"
     ]
    }
   ],
   "source": [
    "using GeometricFlux\n",
    "using Flux\n",
    "using Flux: onehotbatch, onecold, crossentropy, throttle\n",
    "using JLD2  # use v0.1.2\n",
    "using Statistics: mean\n",
    "using SparseArrays\n",
    "using LightGraphs.SimpleGraphs\n",
    "using LightGraphs: adjacency_matrix\n",
    "using CuArrays\n",
    "\n",
    "@load \"cora_features.jld2\" features\n",
    "@load \"cora_labels.jld2\" labels\n",
    "@load \"cora_graph.jld2\" g\n",
    "\n",
    "num_nodes = 2708\n",
    "num_features = 1433\n",
    "hidden = 16\n",
    "target_catg = 7\n",
    "epochs = 20\n",
    "\n",
    "## Preprocessing data\n",
    "train_X = Float32.(features)  # dim: num_features * num_nodes\n",
    "train_y = Float32.(labels)  # dim: target_catg * num_nodes\n",
    "\n",
    "adj_mat = Matrix{Float32}(adjacency_matrix(g))\n",
    "\n",
    "## Model\n",
    "model = Chain(GCNConv(adj_mat, num_features=>hidden, relu),\n",
    "              Dropout(0.5),\n",
    "              GCNConv(adj_mat, hidden=>target_catg),\n",
    "              softmax)\n",
    "\n",
    "## Loss\n",
    "loss(x, y) = crossentropy(model(x), y)\n",
    "accuracy(x, y) = mean(onecold(model(x)) .== onecold(y))\n",
    "\n",
    "## Training\n",
    "ps = Flux.params(model)\n",
    "train_data = [(train_X, train_y)]\n",
    "opt = ADAM(0.0001)\n",
    "evalcb() = @show(accuracy(train_X, train_y))\n",
    "\n",
    "for i = 1:epochs\n",
    "    Flux.train!(loss, ps, train_data, opt, cb=throttle(evalcb, 10))\n",
    "end"
   ]
  }
 ],
 "metadata": {
  "kernelspec": {
   "display_name": "Julia 1.4.1",
   "language": "julia",
   "name": "julia-1.4"
  },
  "language_info": {
   "file_extension": ".jl",
   "mimetype": "application/julia",
   "name": "julia",
   "version": "1.4.1"
  }
 },
 "nbformat": 4,
 "nbformat_minor": 2
}
