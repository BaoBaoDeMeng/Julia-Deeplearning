{
 "cells": [
  {
   "cell_type": "markdown",
   "metadata": {},
   "source": [
    "### UNet and ISBI2012\n",
    "\n",
    "在该实现中您可以看到如下功能：\n",
    "1. 读取 ISBI 2012 数据集\n",
    "2. 更为灵活的网络结构定义和 UNet 的实现\n",
    "\n",
    "In this template you can finish the following functions:\n",
    "1. Read the ISBI 2012 data set\n",
    "2. More flexible network structure definition and UNet implementation"
   ]
  },
  {
   "cell_type": "code",
   "execution_count": 1,
   "metadata": {},
   "outputs": [],
   "source": [
    "# ;wget \"https://github.com/tczhangzhi/Julia-Deeplearning/releases/download/v0.0.2/ISBI2012.zip\""
   ]
  },
  {
   "cell_type": "code",
   "execution_count": 2,
   "metadata": {},
   "outputs": [],
   "source": [
    "# ;unzip ISBI2012.zip"
   ]
  },
  {
   "cell_type": "code",
   "execution_count": 3,
   "metadata": {},
   "outputs": [],
   "source": [
    "using Base.Iterators: partition\n",
    "using Flux\n",
    "using Flux.Optimise: update!\n",
    "using Flux: logitbinarycrossentropy\n",
    "using Images\n",
    "using MLDatasets\n",
    "using Statistics\n",
    "using Parameters: @with_kw\n",
    "using Printf\n",
    "using Random"
   ]
  },
  {
   "cell_type": "code",
   "execution_count": 4,
   "metadata": {},
   "outputs": [
    {
     "name": "stderr",
     "output_type": "stream",
     "text": [
      "┌ Info: Training on GPU-3\n",
      "└ @ Main In[4]:7\n"
     ]
    }
   ],
   "source": [
    "using CUDAapi, CUDAdrv, CUDAnative\n",
    "gpu_id = 3  ## set < 0 for no cuda, >= 0 for using a specific device (if available)\n",
    "\n",
    "if has_cuda_gpu() && gpu_id >=0\n",
    "    device!(gpu_id)\n",
    "    device = Flux.gpu\n",
    "    @info \"Training on GPU-$(gpu_id)\"\n",
    "else\n",
    "    device = Flux.cpu\n",
    "    @info \"Training on CPU\"\n",
    "end"
   ]
  },
  {
   "cell_type": "code",
   "execution_count": 5,
   "metadata": {},
   "outputs": [
    {
     "data": {
      "text/plain": [
       "Args"
      ]
     },
     "execution_count": 5,
     "metadata": {},
     "output_type": "execute_result"
    }
   ],
   "source": [
    "using Parameters: @with_kw\n",
    "@with_kw mutable struct Args\n",
    "    lr::Float64 = 1e-4\n",
    "end"
   ]
  },
  {
   "cell_type": "code",
   "execution_count": 6,
   "metadata": {},
   "outputs": [
    {
     "data": {
      "text/plain": [
       "get_processed_data (generic function with 1 method)"
      ]
     },
     "execution_count": 6,
     "metadata": {},
     "output_type": "execute_result"
    }
   ],
   "source": [
    "# Example script of how you can train this UNet and do inference\n",
    "using Images, FileIO, JLD2, Flux\n",
    "\n",
    "img2array(img) = reshape(\n",
    "    convert(Array{Float32}, img), size(img) ..., 1, 1\n",
    ")\n",
    "\n",
    "array2img(x) = convert(\n",
    "    Array{Gray{Normed{UInt8,8}},2},\n",
    "    reshape(sigmoid.(y_pred), size(y_pred)[1], size(y_pred)[2])\n",
    ")\n",
    "\n",
    "function unet_dimensions(input)\n",
    "    output = input - 4\n",
    "    for depth in 1:4\n",
    "        output = output ÷ 2 - 4\n",
    "    end\n",
    "\n",
    "    for expand in 1:4\n",
    "        output = 2 * output -4\n",
    "    end\n",
    "\n",
    "    return output\n",
    "end\n",
    "\n",
    "function required_padding(img)\n",
    "    # calculate how much padding is needed around img\n",
    "    height, width = size(img)\n",
    "    output_height = unet_dimensions(height)\n",
    "\n",
    "    return (height - output_height) ÷ 2\n",
    "end\n",
    "\n",
    "function unet_tiling(img)\n",
    "    # given an input image, tiles it for the unet\n",
    "#     padding = required_padding(img)\n",
    "#     return padarray(img, Pad(:symmetric, padding, padding))\n",
    "    return img\n",
    "end\n",
    "\n",
    "function load_img_label(number, crop=500)\n",
    "    train_path = \"train/\"\n",
    "    img_path = train_path*\"image/\"*string(number)*\".png\"\n",
    "    label_path = train_path*\"label/\"*string(number)*\".png\"\n",
    "\n",
    "    img = load(img_path)[1:crop, 1:crop]\n",
    "    label = load(label_path)[1:crop, 1:crop]\n",
    "\n",
    "    return img, label\n",
    "end\n",
    "\n",
    "function get_processed_data()\n",
    "    dataset = []\n",
    "    for i = 0:20\n",
    "        img, label = load_img_label(i, 256)\n",
    "        X = img2array(unet_tiling(img))\n",
    "        y = img2array(label)\n",
    "        push!(dataset, (X, y))\n",
    "    end\n",
    "    return dataset\n",
    "end"
   ]
  },
  {
   "cell_type": "code",
   "execution_count": 7,
   "metadata": {},
   "outputs": [
    {
     "data": {
      "text/plain": [
       "UNet((Chain(Conv((3, 3), 1=>32), BatchNorm(32, λ = relu), Conv((3, 3), 32=>32), BatchNorm(32, λ = relu)), Chain(MaxPool((2, 2), pad = (0, 0, 0, 0), stride = (2, 2)), Conv((3, 3), 32=>64), BatchNorm(64, λ = relu), Conv((3, 3), 64=>64), BatchNorm(64, λ = relu)), Chain(MaxPool((2, 2), pad = (0, 0, 0, 0), stride = (2, 2)), Conv((3, 3), 64=>128), BatchNorm(128, λ = relu), Conv((3, 3), 128=>128), BatchNorm(128, λ = relu)), Chain(MaxPool((2, 2), pad = (0, 0, 0, 0), stride = (2, 2)), Conv((3, 3), 128=>256), BatchNorm(256, λ = relu), Conv((3, 3), 256=>256), BatchNorm(256, λ = relu))), (Chain(Conv((3, 3), 512=>256), BatchNorm(256, λ = relu), Conv((3, 3), 256=>256), BatchNorm(256, λ = relu)), Chain(Conv((3, 3), 256=>128), BatchNorm(128, λ = relu), Conv((3, 3), 128=>128), BatchNorm(128, λ = relu)), Chain(Conv((3, 3), 128=>64), BatchNorm(64, λ = relu), Conv((3, 3), 64=>64), BatchNorm(64, λ = relu)), Chain(Conv((3, 3), 64=>32), BatchNorm(32, λ = relu), Conv((3, 3), 32=>32), BatchNorm(32, λ = relu))), Chain(MaxPool((2, 2), pad = (0, 0, 0, 0), stride = (2, 2)), Conv((3, 3), 256=>512), BatchNorm(512, λ = relu), Conv((3, 3), 512=>512), BatchNorm(512, λ = relu)), (ConvTranspose((2, 2), 512=>256), ConvTranspose((2, 2), 256=>128), ConvTranspose((2, 2), 128=>64), ConvTranspose((2, 2), 64=>32)), Conv((1, 1), 32=>1))"
      ]
     },
     "execution_count": 7,
     "metadata": {},
     "output_type": "execute_result"
    }
   ],
   "source": [
    "block1(in_channels, features) = Chain(Conv((3,3), in_channels=>features, pad=1),\n",
    "    BatchNorm(features, relu), #calls n-1'th dim\n",
    "    Conv((3,3), features=>features, pad=1),\n",
    "    BatchNorm(features, relu))\n",
    "\n",
    "block2(in_channels, features) = Chain(MaxPool((2,2), stride=2),\n",
    "    Conv((3,3), in_channels=>features, pad=1),\n",
    "    BatchNorm(features, relu), #calls n-1'th dim\n",
    "    Conv((3,3), features=>features, pad=1),\n",
    "    BatchNorm(features, relu))\n",
    "\n",
    "upconv(in_channels, features) = ConvTranspose((2,2), in_channels=>features, stride=2)\n",
    "\n",
    "conv(in_channels, out_channels) = Conv((1,1), in_channels=>out_channels)\n",
    "\n",
    "struct UNet\n",
    "    conv_block\n",
    "    conv_block2\n",
    "    bottle\n",
    "    upconv_block\n",
    "    conv_\n",
    "end\n",
    "\n",
    "Flux.@treelike UNet\n",
    "\n",
    "function UNet()\n",
    "    conv_block = (block1(1, 32), block2(32, 32*2), block2(32*2, 32*4), block2(32*4, 32*8))\n",
    "    conv_block2 = (block1(32*16, 32*8), block1(32*8, 32*4), block1(32*4, 32*2), block1(32*2, 32))\n",
    "    bottle = block2(32*8, 32*16)\n",
    "    upconv_block = (upconv(32*16, 32*8), upconv(32*8, 32*4), upconv(32*4, 32*2), upconv(32*2, 32))\n",
    "    conv_ = conv(32, 1)\n",
    "    UNet(conv_block, conv_block2, bottle, upconv_block, conv_)\n",
    "end\n",
    "\n",
    "function (u::UNet)(x)\n",
    "    enc1 = u.conv_block[1](x)\n",
    "    enc2 = u.conv_block[2](enc1)\n",
    "    enc3 = u.conv_block[3](enc2)\n",
    "    enc4 = u.conv_block[4](enc3)\n",
    "    \n",
    "    bn = u.bottle(enc4)\n",
    "    \n",
    "    dec4 = u.upconv_block[1](bn)\n",
    "    dec4 = cat(dims=3, dec4, enc4)\n",
    "    dec4 = u.conv_block2[1](dec4)\n",
    "    dec3 = u.upconv_block[2](dec4)\n",
    "    dec3 = cat(dims=3, dec3, enc3)\n",
    "    dec3 = u.conv_block2[2](dec3)\n",
    "    dec2 = u.upconv_block[3](dec3)\n",
    "    dec2 = cat(dims=3, dec2, enc2)\n",
    "    dec2 = u.conv_block2[3](dec2)\n",
    "    dec1 = u.upconv_block[4](dec2)\n",
    "    dec1 = cat(dims=3, dec1, enc1)\n",
    "    dec1 = u.conv_block2[4](dec1)\n",
    "    dec1 = u.conv_(dec1)\n",
    "end\n",
    "\n",
    "model = UNet()"
   ]
  },
  {
   "cell_type": "code",
   "execution_count": 8,
   "metadata": {},
   "outputs": [
    {
     "data": {
      "text/plain": [
       "train! (generic function with 1 method)"
      ]
     },
     "execution_count": 8,
     "metadata": {},
     "output_type": "execute_result"
    }
   ],
   "source": [
    "using Juno: @progress\n",
    "\n",
    "function train!(model; kws...)\n",
    "    # Initialize the hyperparameters\n",
    "    args = Args(; kws...)\n",
    "    \n",
    "    model = model |> device\n",
    "    \n",
    "    # Load the train, validation data \n",
    "    train = get_processed_data() |> device\n",
    "\n",
    "    @info(\"Constructing Model\")\n",
    "    # Defining the loss and accuracy functions\n",
    "\n",
    "    loss(x, y) = mean(logitbinarycrossentropy.(model(x), y))\n",
    "    opt = Flux.ADAM(args.lr)\n",
    "\n",
    "    # get a validation datapoint\n",
    "    img, label = load_img_label(25, 256)\n",
    "    X_valid = img2array(unet_tiling(img)) |> device\n",
    "    y_valid = img2array(label) |> device\n",
    "\n",
    "    evalcb = () -> @show loss(X_valid, y_valid)\n",
    "\n",
    "    @progress for i = 0:5\n",
    "        @info \"Epoch $i\"\n",
    "        Flux.train!(loss, params(model), train, opt, cb = evalcb)\n",
    "    end\n",
    "end"
   ]
  },
  {
   "cell_type": "code",
   "execution_count": 9,
   "metadata": {},
   "outputs": [
    {
     "name": "stderr",
     "output_type": "stream",
     "text": [
      "┌ Info: Constructing Model\n",
      "└ @ Main In[8]:12\n",
      "┌ Info: Epoch 0\n",
      "└ @ Main In[8]:26\n"
     ]
    },
    {
     "name": "stdout",
     "output_type": "stream",
     "text": [
      "loss(X_valid, y_valid) = 0.6754983f0\n",
      "loss(X_valid, y_valid) = 0.6479642f0\n",
      "loss(X_valid, y_valid) = 0.6333644f0\n",
      "loss(X_valid, y_valid) = 0.6217432f0\n",
      "loss(X_valid, y_valid) = 0.6110519f0\n",
      "loss(X_valid, y_valid) = 0.6006421f0\n",
      "loss(X_valid, y_valid) = 0.59019876f0\n",
      "loss(X_valid, y_valid) = 0.58035487f0\n",
      "loss(X_valid, y_valid) = 0.570896f0\n",
      "loss(X_valid, y_valid) = 0.5617561f0\n",
      "loss(X_valid, y_valid) = 0.55347586f0\n",
      "loss(X_valid, y_valid) = 0.5460945f0\n",
      "loss(X_valid, y_valid) = 0.5399588f0\n",
      "loss(X_valid, y_valid) = 0.53441906f0\n",
      "loss(X_valid, y_valid) = 0.52940595f0\n",
      "loss(X_valid, y_valid) = 0.5243415f0\n",
      "loss(X_valid, y_valid) = 0.5196815f0\n",
      "loss(X_valid, y_valid) = 0.5157166f0\n",
      "loss(X_valid, y_valid) = 0.5118404f0\n",
      "loss(X_valid, y_valid) = 0.50810456f0\n",
      "loss(X_valid, y_valid) = 0.50513065f0\n"
     ]
    },
    {
     "name": "stderr",
     "output_type": "stream",
     "text": [
      "┌ Info: Epoch 1\n",
      "└ @ Main In[8]:26\n"
     ]
    },
    {
     "name": "stdout",
     "output_type": "stream",
     "text": [
      "loss(X_valid, y_valid) = 0.5025954f0\n",
      "loss(X_valid, y_valid) = 0.49971855f0\n",
      "loss(X_valid, y_valid) = 0.49594998f0\n",
      "loss(X_valid, y_valid) = 0.4923706f0\n",
      "loss(X_valid, y_valid) = 0.4887216f0\n",
      "loss(X_valid, y_valid) = 0.48491937f0\n",
      "loss(X_valid, y_valid) = 0.4808705f0\n",
      "loss(X_valid, y_valid) = 0.47786778f0\n",
      "loss(X_valid, y_valid) = 0.4752676f0\n",
      "loss(X_valid, y_valid) = 0.4713119f0\n",
      "loss(X_valid, y_valid) = 0.467229f0\n",
      "loss(X_valid, y_valid) = 0.46421158f0\n",
      "loss(X_valid, y_valid) = 0.46105477f0\n",
      "loss(X_valid, y_valid) = 0.4575152f0\n",
      "loss(X_valid, y_valid) = 0.45317826f0\n",
      "loss(X_valid, y_valid) = 0.4480642f0\n",
      "loss(X_valid, y_valid) = 0.4445296f0\n",
      "loss(X_valid, y_valid) = 0.43907207f0\n",
      "loss(X_valid, y_valid) = 0.43299466f0\n",
      "loss(X_valid, y_valid) = 0.4252798f0\n",
      "loss(X_valid, y_valid) = 0.41501886f0\n",
      "loss(X_valid, y_valid) = 0.40689376f0\n",
      "loss(X_valid, y_valid) = 0.40263224f0\n"
     ]
    },
    {
     "name": "stderr",
     "output_type": "stream",
     "text": [
      "┌ Info: Epoch 2\n",
      "└ @ Main In[8]:26\n"
     ]
    },
    {
     "name": "stdout",
     "output_type": "stream",
     "text": [
      "loss(X_valid, y_valid) = 0.39818984f0\n",
      "loss(X_valid, y_valid) = 0.39721185f0\n",
      "loss(X_valid, y_valid) = 0.40074456f0\n",
      "loss(X_valid, y_valid) = 0.4042924f0\n",
      "loss(X_valid, y_valid) = 0.40522987f0\n",
      "loss(X_valid, y_valid) = 0.40911615f0\n",
      "loss(X_valid, y_valid) = 0.41623735f0\n",
      "loss(X_valid, y_valid) = 0.41029552f0\n",
      "loss(X_valid, y_valid) = 0.39626426f0\n",
      "loss(X_valid, y_valid) = 0.3851368f0\n",
      "loss(X_valid, y_valid) = 0.3695891f0\n",
      "loss(X_valid, y_valid) = 0.34872556f0\n",
      "loss(X_valid, y_valid) = 0.32627702f0\n",
      "loss(X_valid, y_valid) = 0.30808854f0\n",
      "loss(X_valid, y_valid) = 0.30138713f0\n",
      "loss(X_valid, y_valid) = 0.29599681f0\n",
      "loss(X_valid, y_valid) = 0.29289424f0\n",
      "loss(X_valid, y_valid) = 0.2903065f0\n",
      "loss(X_valid, y_valid) = 0.2864841f0\n",
      "loss(X_valid, y_valid) = 0.28396145f0\n",
      "loss(X_valid, y_valid) = "
     ]
    },
    {
     "name": "stderr",
     "output_type": "stream",
     "text": [
      "┌ Info: Epoch 3\n",
      "└ @ Main In[8]:26\n"
     ]
    },
    {
     "name": "stdout",
     "output_type": "stream",
     "text": [
      "0.28445503f0\n",
      "loss(X_valid, y_valid) = 0.2849717f0\n",
      "loss(X_valid, y_valid) = 0.28813314f0\n",
      "loss(X_valid, y_valid) = 0.29467812f0\n",
      "loss(X_valid, y_valid) = 0.3011343f0\n",
      "loss(X_valid, y_valid) = 0.30534264f0\n",
      "loss(X_valid, y_valid) = 0.31048357f0\n",
      "loss(X_valid, y_valid) = 0.31961662f0\n",
      "loss(X_valid, y_valid) = 0.31729895f0\n",
      "loss(X_valid, y_valid) = 0.31454855f0\n",
      "loss(X_valid, y_valid) = 0.3119638f0\n",
      "loss(X_valid, y_valid) = 0.30605906f0\n",
      "loss(X_valid, y_valid) = 0.29908484f0\n",
      "loss(X_valid, y_valid) = 0.29136327f0\n",
      "loss(X_valid, y_valid) = 0.28486913f0\n",
      "loss(X_valid, y_valid) = 0.27979332f0\n",
      "loss(X_valid, y_valid) = 0.27456218f0\n",
      "loss(X_valid, y_valid) = 0.27198815f0\n",
      "loss(X_valid, y_valid) = 0.27128035f0\n",
      "loss(X_valid, y_valid) = 0.2698983f0\n",
      "loss(X_valid, y_valid) = 0.27078947f0\n",
      "loss(X_valid, y_valid) = 0.27185947f0\n"
     ]
    },
    {
     "name": "stderr",
     "output_type": "stream",
     "text": [
      "┌ Info: Epoch 4\n",
      "└ @ Main In[8]:26\n"
     ]
    },
    {
     "name": "stdout",
     "output_type": "stream",
     "text": [
      "loss(X_valid, y_valid) = 0.27081355f0\n",
      "loss(X_valid, y_valid) = 0.2701706f0\n",
      "loss(X_valid, y_valid) = 0.27114102f0\n",
      "loss(X_valid, y_valid) = 0.2747957f0\n",
      "loss(X_valid, y_valid) = 0.27857518f0\n",
      "loss(X_valid, y_valid) = 0.28662843f0\n",
      "loss(X_valid, y_valid) = 0.30147618f0\n",
      "loss(X_valid, y_valid) = 0.30387786f0\n",
      "loss(X_valid, y_valid) = 0.29780483f0\n",
      "loss(X_valid, y_valid) = 0.29205066f0\n",
      "loss(X_valid, y_valid) = 0.28696734f0\n",
      "loss(X_valid, y_valid) = 0.2803837f0\n",
      "loss(X_valid, y_valid) = 0.27341452f0\n",
      "loss(X_valid, y_valid) = 0.27038664f0\n",
      "loss(X_valid, y_valid) = 0.271456f0\n",
      "loss(X_valid, y_valid) = 0.2722354f0\n",
      "loss(X_valid, y_valid) = 0.27115732f0\n",
      "loss(X_valid, y_valid) = 0.2689991f0\n",
      "loss(X_valid, y_valid) = 0.26681334f0\n",
      "loss(X_valid, y_valid) = 0.26338148f0\n",
      "loss(X_valid, y_valid) = "
     ]
    },
    {
     "name": "stderr",
     "output_type": "stream",
     "text": [
      "┌ Info: Epoch 5\n",
      "└ @ Main In[8]:26\n"
     ]
    },
    {
     "name": "stdout",
     "output_type": "stream",
     "text": [
      "0.26154026f0\n",
      "loss(X_valid, y_valid) = 0.26216814f0\n",
      "loss(X_valid, y_valid) = 0.2651148f0\n",
      "loss(X_valid, y_valid) = 0.2696694f0\n",
      "loss(X_valid, y_valid) = 0.27377883f0\n",
      "loss(X_valid, y_valid) = 0.27446055f0\n",
      "loss(X_valid, y_valid) = 0.2790925f0\n",
      "loss(X_valid, y_valid) = 0.29095748f0\n",
      "loss(X_valid, y_valid) = 0.28887793f0\n",
      "loss(X_valid, y_valid) = 0.28458422f0\n",
      "loss(X_valid, y_valid) = 0.28989795f0\n",
      "loss(X_valid, y_valid) = 0.2925388f0\n",
      "loss(X_valid, y_valid) = 0.29096913f0\n",
      "loss(X_valid, y_valid) = 0.28795815f0\n",
      "loss(X_valid, y_valid) = 0.28506348f0\n",
      "loss(X_valid, y_valid) = 0.2855867f0\n",
      "loss(X_valid, y_valid) = 0.2836312f0\n",
      "loss(X_valid, y_valid) = 0.27866f0\n",
      "loss(X_valid, y_valid) = 0.27404493f0\n",
      "loss(X_valid, y_valid) = 0.26496816f0\n"
     ]
    }
   ],
   "source": [
    "train!(model)"
   ]
  },
  {
   "cell_type": "code",
   "execution_count": 10,
   "metadata": {},
   "outputs": [],
   "source": [
    "weights = params(model)\n",
    "@save \"unet_weights.jld2\" weights"
   ]
  },
  {
   "cell_type": "code",
   "execution_count": 11,
   "metadata": {},
   "outputs": [
    {
     "data": {
      "image/png": "[encoded data removed]",
      "text/plain": [
       "256×256 Array{Gray{N0f8},2} with eltype Gray{Normed{UInt8,8}}:\n",
       " Gray{N0f8}(0.502)  Gray{N0f8}(0.502)  …  Gray{N0f8}(0.502)\n",
       " Gray{N0f8}(0.502)  Gray{N0f8}(0.49)      Gray{N0f8}(0.498)\n",
       " Gray{N0f8}(0.494)  Gray{N0f8}(0.49)      Gray{N0f8}(0.502)\n",
       " Gray{N0f8}(0.486)  Gray{N0f8}(0.486)     Gray{N0f8}(0.502)\n",
       " Gray{N0f8}(0.494)  Gray{N0f8}(0.49)      Gray{N0f8}(0.502)\n",
       " Gray{N0f8}(0.49)   Gray{N0f8}(0.49)   …  Gray{N0f8}(0.498)\n",
       " Gray{N0f8}(0.494)  Gray{N0f8}(0.49)      Gray{N0f8}(0.498)\n",
       " Gray{N0f8}(0.49)   Gray{N0f8}(0.486)     Gray{N0f8}(0.498)\n",
       " Gray{N0f8}(0.49)   Gray{N0f8}(0.49)      Gray{N0f8}(0.502)\n",
       " Gray{N0f8}(0.494)  Gray{N0f8}(0.494)     Gray{N0f8}(0.502)\n",
       " Gray{N0f8}(0.494)  Gray{N0f8}(0.494)  …  Gray{N0f8}(0.502)\n",
       " Gray{N0f8}(0.494)  Gray{N0f8}(0.494)     Gray{N0f8}(0.498)\n",
       " Gray{N0f8}(0.498)  Gray{N0f8}(0.494)     Gray{N0f8}(0.498)\n",
       " ⋮                                     ⋱  ⋮\n",
       " Gray{N0f8}(0.494)  Gray{N0f8}(0.494)     Gray{N0f8}(0.502)\n",
       " Gray{N0f8}(0.494)  Gray{N0f8}(0.494)  …  Gray{N0f8}(0.502)\n",
       " Gray{N0f8}(0.494)  Gray{N0f8}(0.494)     Gray{N0f8}(0.502)\n",
       " Gray{N0f8}(0.494)  Gray{N0f8}(0.49)      Gray{N0f8}(0.498)\n",
       " Gray{N0f8}(0.498)  Gray{N0f8}(0.49)      Gray{N0f8}(0.498)\n",
       " Gray{N0f8}(0.494)  Gray{N0f8}(0.49)      Gray{N0f8}(0.494)\n",
       " Gray{N0f8}(0.498)  Gray{N0f8}(0.486)  …  Gray{N0f8}(0.498)\n",
       " Gray{N0f8}(0.49)   Gray{N0f8}(0.486)     Gray{N0f8}(0.498)\n",
       " Gray{N0f8}(0.49)   Gray{N0f8}(0.482)     Gray{N0f8}(0.498)\n",
       " Gray{N0f8}(0.486)  Gray{N0f8}(0.482)     Gray{N0f8}(0.498)\n",
       " Gray{N0f8}(0.49)   Gray{N0f8}(0.49)      Gray{N0f8}(0.498)\n",
       " Gray{N0f8}(0.494)  Gray{N0f8}(0.494)  …  Gray{N0f8}(0.498)"
      ]
     },
     "execution_count": 11,
     "metadata": {},
     "output_type": "execute_result"
    }
   ],
   "source": [
    "@load \"unet_weights.jld2\" weights\n",
    "Flux.loadparams!(model, weights)\n",
    "\n",
    "img, label = load_img_label(21, 256)\n",
    "y_pred = model(img2array(unet_tiling(img)))\n",
    "\n",
    "img_pred = array2img(y_pred)"
   ]
  },
  {
   "cell_type": "code",
   "execution_count": null,
   "metadata": {},
   "outputs": [],
   "source": []
  }
 ],
 "metadata": {
  "kernelspec": {
   "display_name": "Julia 1.4.1",
   "language": "julia",
   "name": "julia-1.4"
  },
  "language_info": {
   "file_extension": ".jl",
   "mimetype": "application/julia",
   "name": "julia",
   "version": "1.4.1"
  }
 },
 "nbformat": 4,
 "nbformat_minor": 2
}
