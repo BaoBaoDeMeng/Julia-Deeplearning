{
 "cells": [
  {
   "cell_type": "markdown",
   "metadata": {},
   "source": [
    "### DCGAN and Fashion_MNIST\n",
    "\n",
    "在该实现中您可以看到如下功能：\n",
    "1. GAN 的定义\n",
    "2. GAN 的对抗训练\n",
    "3. 生成图像的可视化\n",
    "\n",
    "In this template you can finish the following functions:\n",
    "1. Definition of GAN\n",
    "2. GAN's adversarial training\n",
    "3. Visualization of generated images"
   ]
  },
  {
   "cell_type": "code",
   "execution_count": 1,
   "metadata": {},
   "outputs": [],
   "source": [
    "using Base.Iterators: partition\n",
    "using Flux\n",
    "using Flux.Optimise: update!\n",
    "using Flux: logitbinarycrossentropy\n",
    "using Images\n",
    "using MLDatasets\n",
    "using Statistics\n",
    "using Parameters: @with_kw\n",
    "using Printf\n",
    "using Random"
   ]
  },
  {
   "cell_type": "code",
   "execution_count": 2,
   "metadata": {},
   "outputs": [
    {
     "name": "stderr",
     "output_type": "stream",
     "text": [
      "┌ Info: Training on GPU-3\n",
      "└ @ Main In[2]:7\n"
     ]
    }
   ],
   "source": [
    "using CUDAapi, CUDAdrv, CUDAnative\n",
    "gpu_id = 3  ## set < 0 for no cuda, >= 0 for using a specific device (if available)\n",
    "\n",
    "if has_cuda_gpu() && gpu_id >=0\n",
    "    device!(gpu_id)\n",
    "    device = Flux.gpu\n",
    "    @info \"Training on GPU-$(gpu_id)\"\n",
    "else\n",
    "    device = Flux.cpu\n",
    "    @info \"Training on CPU\"\n",
    "end"
   ]
  },
  {
   "cell_type": "code",
   "execution_count": 3,
   "metadata": {},
   "outputs": [
    {
     "data": {
      "text/plain": [
       "Args"
      ]
     },
     "execution_count": 3,
     "metadata": {},
     "output_type": "execute_result"
    }
   ],
   "source": [
    "using Parameters: @with_kw\n",
    "@with_kw mutable struct Args\n",
    "    batch_size::Int = 128\n",
    "    latent_dim::Int = 100\n",
    "    epochs::Int = 20\n",
    "    verbose_freq::Int = 1000\n",
    "    output_x::Int = 6\n",
    "    output_y::Int = 6\n",
    "    lr_dscr::Float64 = 0.00005\n",
    "    lr_gen::Float64 = 0.00005\n",
    "end"
   ]
  },
  {
   "cell_type": "code",
   "execution_count": 4,
   "metadata": {},
   "outputs": [
    {
     "data": {
      "text/plain": [
       "create_output_image (generic function with 1 method)"
      ]
     },
     "execution_count": 4,
     "metadata": {},
     "output_type": "execute_result"
    }
   ],
   "source": [
    "function create_output_image(gen, fixed_noise, args)\n",
    "    @eval Flux.istraining() = false\n",
    "    fake_images = @. cpu(gen(fixed_noise))\n",
    "    @eval Flux.istraining() = true\n",
    "    image_array = permutedims(dropdims(reduce(vcat, reduce.(hcat, partition(fake_images, args.output_y))); dims=(3, 4)), (2, 1))\n",
    "    image_array = @. Gray(image_array + 1f0) / 2f0\n",
    "    return image_array\n",
    "end"
   ]
  },
  {
   "cell_type": "code",
   "execution_count": 5,
   "metadata": {},
   "outputs": [
    {
     "data": {
      "text/plain": [
       "Generator (generic function with 1 method)"
      ]
     },
     "execution_count": 5,
     "metadata": {},
     "output_type": "execute_result"
    }
   ],
   "source": [
    "function Discriminator()\n",
    "    return Chain(\n",
    "            Conv((4, 4), 1 => 64; stride = 2, pad = 1),\n",
    "            x->leakyrelu.(x, 0.2f0),\n",
    "            Dropout(0.25),\n",
    "            Conv((4, 4), 64 => 128; stride = 2, pad = 1),\n",
    "            x->leakyrelu.(x, 0.2f0),\n",
    "            Dropout(0.25), \n",
    "            x->reshape(x, 7 * 7 * 128, :),\n",
    "            Dense(7 * 7 * 128, 1))\n",
    "end\n",
    "\n",
    "function Generator(latent_dim)\n",
    "    return Chain(\n",
    "            Dense(latent_dim, 7 * 7 * 256),\n",
    "            BatchNorm(7 * 7 * 256, relu),\n",
    "            x->reshape(x, 7, 7, 256, :),\n",
    "            ConvTranspose((5, 5), 256 => 128; stride = 1, pad = 2),\n",
    "            BatchNorm(128, relu),\n",
    "            ConvTranspose((4, 4), 128 => 64; stride = 2, pad = 1),\n",
    "            BatchNorm(64, relu),\n",
    "            ConvTranspose((4, 4), 64 => 1, tanh; stride = 2, pad = 1),\n",
    "            )\n",
    "end"
   ]
  },
  {
   "cell_type": "code",
   "execution_count": 6,
   "metadata": {},
   "outputs": [
    {
     "data": {
      "text/plain": [
       "generator_loss (generic function with 1 method)"
      ]
     },
     "execution_count": 6,
     "metadata": {},
     "output_type": "execute_result"
    }
   ],
   "source": [
    "function discriminator_loss(real_output, fake_output)\n",
    "    real_loss = mean(logitbinarycrossentropy.(real_output, 1f0))\n",
    "    fake_loss = mean(logitbinarycrossentropy.(fake_output, 0f0))\n",
    "    return real_loss + fake_loss\n",
    "end\n",
    "\n",
    "generator_loss(fake_output) = mean(logitbinarycrossentropy.(fake_output, 1f0))"
   ]
  },
  {
   "cell_type": "code",
   "execution_count": 7,
   "metadata": {},
   "outputs": [
    {
     "data": {
      "text/plain": [
       "train_generator! (generic function with 1 method)"
      ]
     },
     "execution_count": 7,
     "metadata": {},
     "output_type": "execute_result"
    }
   ],
   "source": [
    "function train_discriminator!(gen, dscr, x, opt_dscr, args)\n",
    "    noise = randn!(similar(x, (args.latent_dim, args.batch_size))) \n",
    "    fake_input = gen(noise)\n",
    "    ps = Flux.params(dscr)\n",
    "    # Taking gradient\n",
    "    loss, back = Flux.pullback(ps) do\n",
    "        discriminator_loss(dscr(x), dscr(fake_input))\n",
    "    end\n",
    "    grad = back(1f0)\n",
    "    update!(opt_dscr, ps, grad)\n",
    "    return loss\n",
    "end\n",
    "\n",
    "function train_generator!(gen, dscr, x, opt_gen, args)\n",
    "    noise = randn!(similar(x, (args.latent_dim, args.batch_size))) \n",
    "    ps = Flux.params(gen)\n",
    "    # Taking gradient\n",
    "    loss, back = Flux.pullback(ps) do\n",
    "        generator_loss(dscr(gen(noise)))\n",
    "    end\n",
    "    grad = back(1f0)\n",
    "    update!(opt_gen, ps, grad)\n",
    "    return loss\n",
    "end"
   ]
  },
  {
   "cell_type": "code",
   "execution_count": 8,
   "metadata": {},
   "outputs": [
    {
     "data": {
      "text/plain": [
       "train (generic function with 1 method)"
      ]
     },
     "execution_count": 8,
     "metadata": {},
     "output_type": "execute_result"
    }
   ],
   "source": [
    "using MLDatasets\n",
    "using Images\n",
    "using Printf\n",
    "\n",
    "function train(; kws...)\n",
    "    # Model Parameters\n",
    "    args = Args(; kws...)\n",
    "\n",
    "    # Load FashionMNIST dataset\n",
    "    images, _ = MLDatasets.FashionMNIST.traindata(Float32)\n",
    "    # Normalize to [-1, 1]\n",
    "    image_tensor = reshape(@.(2f0 * images - 1f0), 28, 28, 1, :)\n",
    "    # Partition into batches\n",
    "    data = [image_tensor[:, :, :, r] |> device for r in partition(1:60000, args.batch_size)]\n",
    "\n",
    "    fixed_noise = [randn(args.latent_dim, 1) |> device for _=1:args.output_x*args.output_y]\n",
    "\n",
    "    # Discriminator\n",
    "    d_model = Discriminator() |> device\n",
    "\n",
    "    # Generator\n",
    "    g_model = Generator(args.latent_dim) |> device\n",
    "\n",
    "    # Optimizers\n",
    "    opt_dscr = ADAM(args.lr_dscr)\n",
    "    opt_gen = ADAM(args.lr_gen)\n",
    "\n",
    "    # Training\n",
    "    train_steps = 0\n",
    "    for ep in 1:args.epochs\n",
    "        @info \"Epoch $ep\"\n",
    "        for x in data\n",
    "            # Update discriminator and generator\n",
    "            loss_dscr = train_discriminator!(g_model, d_model, x, opt_dscr, args)\n",
    "            loss_gen = train_generator!(g_model, d_model, x, opt_gen, args)\n",
    "\n",
    "            if train_steps % args.verbose_freq == 0\n",
    "                @info(\"Train step $(train_steps), Discriminator loss = $(loss_dscr), Generator loss = $(loss_gen)\")\n",
    "                # Save generated fake image\n",
    "#                 output_image = create_output_image(g_model, fixed_noise, args)\n",
    "#                 display(output_image)\n",
    "#                 save(@sprintf(\"dcgan_steps_%06d.png\", train_steps), output_image)\n",
    "            end\n",
    "            train_steps += 1\n",
    "        end\n",
    "    end\n",
    "\n",
    "    output_image = create_output_image(g_model, fixed_noise, args)\n",
    "    display(output_image)\n",
    "#     save(@sprintf(\"dcgan_steps_%06d.png\", train_steps), output_image)\n",
    "end"
   ]
  },
  {
   "cell_type": "code",
   "execution_count": 9,
   "metadata": {},
   "outputs": [
    {
     "name": "stderr",
     "output_type": "stream",
     "text": [
      "┌ Info: Epoch 1\n",
      "└ @ Main In[8]:31\n",
      "┌ Info: Train step 0, Discriminator loss = 1.4381738, Generator loss = 0.70620656\n",
      "└ @ Main In[8]:38\n",
      "┌ Info: Epoch 2\n",
      "└ @ Main In[8]:31\n",
      "┌ Info: Epoch 3\n",
      "└ @ Main In[8]:31\n",
      "┌ Info: Train step 1000, Discriminator loss = 1.203705, Generator loss = 0.8882565\n",
      "└ @ Main In[8]:38\n",
      "┌ Info: Epoch 4\n",
      "└ @ Main In[8]:31\n",
      "┌ Info: Epoch 5\n",
      "└ @ Main In[8]:31\n",
      "┌ Info: Train step 2000, Discriminator loss = 1.3487449, Generator loss = 0.754305\n",
      "└ @ Main In[8]:38\n",
      "┌ Info: Epoch 6\n",
      "└ @ Main In[8]:31\n",
      "┌ Info: Epoch 7\n",
      "└ @ Main In[8]:31\n",
      "┌ Info: Train step 3000, Discriminator loss = 1.450408, Generator loss = 0.6517055\n",
      "└ @ Main In[8]:38\n",
      "┌ Info: Epoch 8\n",
      "└ @ Main In[8]:31\n",
      "┌ Info: Epoch 9\n",
      "└ @ Main In[8]:31\n",
      "┌ Info: Train step 4000, Discriminator loss = 1.3254168, Generator loss = 0.8234496\n",
      "└ @ Main In[8]:38\n",
      "┌ Info: Epoch 10\n",
      "└ @ Main In[8]:31\n",
      "┌ Info: Epoch 11\n",
      "└ @ Main In[8]:31\n",
      "┌ Info: Train step 5000, Discriminator loss = 1.3110251, Generator loss = 0.80107075\n",
      "└ @ Main In[8]:38\n",
      "┌ Info: Epoch 12\n",
      "└ @ Main In[8]:31\n",
      "┌ Info: Epoch 13\n",
      "└ @ Main In[8]:31\n",
      "┌ Info: Train step 6000, Discriminator loss = 1.303761, Generator loss = 0.7783703\n",
      "└ @ Main In[8]:38\n",
      "┌ Info: Epoch 14\n",
      "└ @ Main In[8]:31\n",
      "┌ Info: Epoch 15\n",
      "└ @ Main In[8]:31\n",
      "┌ Info: Train step 7000, Discriminator loss = 1.4186232, Generator loss = 0.688388\n",
      "└ @ Main In[8]:38\n",
      "┌ Info: Epoch 16\n",
      "└ @ Main In[8]:31\n",
      "┌ Info: Epoch 17\n",
      "└ @ Main In[8]:31\n",
      "┌ Info: Epoch 18\n",
      "└ @ Main In[8]:31\n",
      "┌ Info: Train step 8000, Discriminator loss = 1.1227105, Generator loss = 0.9515403\n",
      "└ @ Main In[8]:38\n",
      "┌ Info: Epoch 19\n",
      "└ @ Main In[8]:31\n",
      "┌ Info: Epoch 20\n",
      "└ @ Main In[8]:31\n",
      "┌ Info: Train step 9000, Discriminator loss = 1.3346882, Generator loss = 0.80039674\n",
      "└ @ Main In[8]:38\n"
     ]
    },
    {
     "data": {
      "image/png": "[encoded data removed]",
      "text/plain": [
       "168×168 Array{Gray{Float32},2} with eltype Gray{Float32}:\n",
       " Gray{Float32}(0.00140151)   …  Gray{Float32}(0.000945836)\n",
       " Gray{Float32}(7.24196f-6)      Gray{Float32}(4.94123f-5)\n",
       " Gray{Float32}(1.00136f-5)      Gray{Float32}(4.27365f-5)\n",
       " Gray{Float32}(1.66893f-6)      Gray{Float32}(3.92795f-5)\n",
       " Gray{Float32}(7.83801f-6)      Gray{Float32}(4.20809f-5)\n",
       " Gray{Float32}(2.98023f-7)   …  Gray{Float32}(0.000131667)\n",
       " Gray{Float32}(5.66244f-7)      Gray{Float32}(0.00031516)\n",
       " Gray{Float32}(5.66244f-7)      Gray{Float32}(0.00034821)\n",
       " Gray{Float32}(3.42727f-6)      Gray{Float32}(0.00037089)\n",
       " Gray{Float32}(6.85453f-7)      Gray{Float32}(0.000832379)\n",
       " Gray{Float32}(4.61936f-6)   …  Gray{Float32}(0.00180849)\n",
       " Gray{Float32}(5.126f-6)        Gray{Float32}(0.000150561)\n",
       " Gray{Float32}(3.66569f-6)      Gray{Float32}(6.19888f-6)\n",
       " ⋮                           ⋱  \n",
       " Gray{Float32}(4.23193f-6)      Gray{Float32}(0.0191346)\n",
       " Gray{Float32}(1.27256f-5)      Gray{Float32}(0.00387678)\n",
       " Gray{Float32}(0.000157267)     Gray{Float32}(0.00180429)\n",
       " Gray{Float32}(0.00412166)      Gray{Float32}(0.00066939)\n",
       " Gray{Float32}(0.0183611)    …  Gray{Float32}(0.000279278)\n",
       " Gray{Float32}(0.0533536)       Gray{Float32}(5.22435f-5)\n",
       " Gray{Float32}(0.0142402)       Gray{Float32}(2.33948f-5)\n",
       " Gray{Float32}(0.00237703)      Gray{Float32}(1.27256f-5)\n",
       " Gray{Float32}(0.00011003)      Gray{Float32}(6.25849f-6)\n",
       " Gray{Float32}(6.19888f-6)   …  Gray{Float32}(7.10487f-5)\n",
       " Gray{Float32}(7.45058f-7)      Gray{Float32}(0.000135839)\n",
       " Gray{Float32}(0.00011459)      Gray{Float32}(0.0109034)"
      ]
     },
     "metadata": {},
     "output_type": "display_data"
    }
   ],
   "source": [
    "train()"
   ]
  },
  {
   "cell_type": "code",
   "execution_count": null,
   "metadata": {},
   "outputs": [],
   "source": []
  }
 ],
 "metadata": {
  "kernelspec": {
   "display_name": "Julia 1.4.1",
   "language": "julia",
   "name": "julia-1.4"
  },
  "language_info": {
   "file_extension": ".jl",
   "mimetype": "application/julia",
   "name": "julia",
   "version": "1.4.1"
  }
 },
 "nbformat": 4,
 "nbformat_minor": 2
}
